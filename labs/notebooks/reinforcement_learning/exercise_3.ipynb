{
 "cells": [
  {
   "cell_type": "markdown",
   "metadata": {},
   "source": [
    "### WSJ Data"
   ]
  },
  {
   "cell_type": "code",
   "execution_count": null,
   "metadata": {},
   "outputs": [],
   "source": [
    "# Load Part-of-Speech data \n",
    "from lxmls.readers.pos_corpus import PostagCorpusData\n",
    "data = PostagCorpusData()"
   ]
  },
  {
   "cell_type": "markdown",
   "metadata": {},
   "source": [
    "### Train model with Cross entropy"
   ]
  },
  {
   "cell_type": "code",
   "execution_count": null,
   "metadata": {},
   "outputs": [],
   "source": [
    "# Alterbative native CuDNN native implementation of RNNs\n",
    "from lxmls.deep_learning.pytorch_models.rnn import FastPytorchRNN\n",
    "model = FastPytorchRNN(\n",
    "    input_size=data.input_size,\n",
    "    embedding_size=50,\n",
    "    hidden_size=20,\n",
    "    output_size=data.output_size,\n",
    "    learning_rate=0.1\n",
    ")"
   ]
  },
  {
   "cell_type": "code",
   "execution_count": null,
   "metadata": {},
   "outputs": [],
   "source": [
    "num_epochs = 10"
   ]
  },
  {
   "cell_type": "code",
   "execution_count": null,
   "metadata": {},
   "outputs": [],
   "source": [
    "import numpy as np\n",
    "import time\n",
    "\n",
    "# Get batch iterators for train and test\n",
    "train_batches = data.batches('train', batch_size=1)\n",
    "dev_set = data.batches('dev', batch_size=1)\n",
    "test_set = data.batches('test', batch_size=1)\n",
    "\n",
    "# Epoch loop\n",
    "start = time.time()\n",
    "for epoch in range(num_epochs):\n",
    "\n",
    "    # Batch loop\n",
    "    for batch in train_batches:\n",
    "        model.update(input=batch['input'], output=batch['output'])\n",
    "\n",
    "    # Evaluation dev\n",
    "    is_hit = []\n",
    "    for batch in dev_set:\n",
    "        is_hit.extend(model.predict(input=batch['input']) == batch['output'])\n",
    "    accuracy = 100*np.mean(is_hit)\n",
    "\n",
    "    # Inform user\n",
    "    print(\"Epoch %d: dev accuracy %2.2f %%\" % (epoch+1, accuracy))\n",
    "\n",
    "print(\"Training took %2.2f seconds per epoch\" % ((time.time() - start)/num_epochs))    \n",
    "    \n",
    "# Evaluation test\n",
    "is_hit = []\n",
    "for batch in test_set:\n",
    "    is_hit.extend(model.predict(input=batch['input']) == batch['output'])\n",
    "accuracy = 100*np.mean(is_hit)\n",
    "\n",
    "# Inform user\n",
    "print(\"Test accuracy %2.2f %%\" % accuracy)"
   ]
  },
  {
   "cell_type": "markdown",
   "metadata": {},
   "source": [
    "### Train model with [LOSS REQUIRING RL]"
   ]
  },
  {
   "cell_type": "code",
   "execution_count": null,
   "metadata": {},
   "outputs": [],
   "source": [
    "# Example of sampling\n",
    "samples, log_probs = model._sample(input=train_batches[0]['input'])\n",
    "samples, log_probs"
   ]
  },
  {
   "cell_type": "code",
   "execution_count": null,
   "metadata": {},
   "outputs": [],
   "source": [
    "# Epoch loop\n",
    "start = time.time()\n",
    "for epoch in range(num_epochs):\n",
    "\n",
    "    # Batch loop\n",
    "    for batch in train_batches:\n",
    "        # TODO: Use this here to create an RL inside model.update()\n",
    "        samples, log_probs = model._sample(input=batch['input'])\n",
    "        raise NotImplementedError\n",
    "\n",
    "    # Evaluation dev\n",
    "    is_hit = []\n",
    "    for batch in dev_set:\n",
    "        is_hit.extend(model.predict(input=batch['input']) == batch['output'])\n",
    "    accuracy = 100*np.mean(is_hit)\n",
    "\n",
    "    # Inform user\n",
    "    print(\"Epoch %d: dev accuracy %2.2f %%\" % (epoch+1, accuracy))\n",
    "\n",
    "print(\"Training took %2.2f seconds per epoch\" % ((time.time() - start)/num_epochs))    \n",
    "    \n",
    "# Evaluation test\n",
    "is_hit = []\n",
    "for batch in test_set:\n",
    "    is_hit.extend(model.predict(input=batch['input']) == batch['output'])\n",
    "accuracy = 100*np.mean(is_hit)\n",
    "\n",
    "# Inform user\n",
    "print(\"Test accuracy %2.2f %%\" % accuracy)"
   ]
  },
  {
   "cell_type": "code",
   "execution_count": null,
   "metadata": {},
   "outputs": [],
   "source": []
  }
 ],
 "metadata": {
  "kernelspec": {
   "display_name": "Python 2",
   "language": "python",
   "name": "python2"
  },
  "language_info": {
   "codemirror_mode": {
    "name": "ipython",
    "version": 2
   },
   "file_extension": ".py",
   "mimetype": "text/x-python",
   "name": "python",
   "nbconvert_exporter": "python",
   "pygments_lexer": "ipython2",
   "version": "2.7.10"
  }
 },
 "nbformat": 4,
 "nbformat_minor": 2
}
