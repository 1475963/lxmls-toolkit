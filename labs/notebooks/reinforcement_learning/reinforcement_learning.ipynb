{
 "cells": [
  {
   "cell_type": "markdown",
   "metadata": {},
   "source": [
    "# State Value Function\n",
    "\n",
    "We want to calculate $V_{\\pi}(s)$ (the state-value-function given a policy)\n",
    "![mdp.png](mdp.png)"
   ]
  },
  {
   "cell_type": "markdown",
   "metadata": {},
   "source": [
    "# Policy Evaluation by Dynamic Programming (page 16)"
   ]
  },
  {
   "cell_type": "code",
   "execution_count": null,
   "metadata": {},
   "outputs": [],
   "source": [
    "import numpy as np\n",
    "\n",
    "policy=np.array([[0.3, 0.2, 0.5], [0.5, 0.4, 0.1], [0.8, 0.1, 0.1]])\n",
    "rewards=np.array([10., 2., 3.])\n",
    "\n",
    "state_value_function=np.array([0 for i in range(3)])\n",
    "\n",
    "for i in range(20):\n",
    "    print(state_value_function)\n",
    "    \n",
    "    state_value_function=#TODO: Implement the Policy Evaluation Update with a Learning Rate of 0.1\n",
    "print(state_value_function)"
   ]
  },
  {
   "cell_type": "markdown",
   "metadata": {
    "collapsed": true
   },
   "source": [
    "# Policy Evaluation by Linear Programming (page 15)\n",
    "\n",
    "The state-value-function can be directly solved through linear programming (as shown on page 15):\n"
   ]
  },
  {
   "cell_type": "code",
   "execution_count": null,
   "metadata": {},
   "outputs": [],
   "source": [
    "solution=#TODO: Implement the linear programming solution with a learning rate of 0.1\n",
    "print(solution)"
   ]
  },
  {
   "cell_type": "markdown",
   "metadata": {},
   "source": [
    "The result stays the same."
   ]
  },
  {
   "cell_type": "markdown",
   "metadata": {},
   "source": [
    "# Monte Carlo Policy Evaluation (page 20)\n",
    "\n",
    "\n",
    "Monte Carlo Policy Evaluation can also be used, whereby sampling is used to get to the same result"
   ]
  },
  {
   "cell_type": "code",
   "execution_count": null,
   "metadata": {},
   "outputs": [],
   "source": [
    "import random\n",
    "from collections import defaultdict\n",
    "reward_counter=np.array([0., 0., 0.])\n",
    "visit_counter=np.array([0., 0., 0.])\n",
    "\n",
    "def gt(rewardlist, gamma=0.1):\n",
    "    '''\n",
    "    Function to calculate the total discounted reward\n",
    "    >>> gt([10, 2, 3], gamma=0.1)\n",
    "    10.23\n",
    "    '''\n",
    "    #TODO: Implement the total discounted reward\n",
    "    return 0\n",
    "\n",
    "\n",
    "for i in range(400):\n",
    "    start_state=random.randint(0, 2)\n",
    "    next_state=start_state\n",
    "    rewardlist=[]\n",
    "    occurence=defaultdict(list) \n",
    "    for i in range(250):\n",
    "        rewardlist.append(rewards[next_state]) \n",
    "        occurence[next_state].append(len(rewardlist)-1) \n",
    "        action=np.random.choice(np.arange(0, 3), p=policy[next_state]) \n",
    "        next_state=action\n",
    "\n",
    "    for state in occurence: \n",
    "        for value in occurence[state]: \n",
    "            rew=gt(rewardlist[value:]) \n",
    "            reward_counter[state]+=rew \n",
    "            visit_counter[state]+=1 \n",
    "            #break #if break: return following only the first visit\n",
    "\n",
    "print(reward_counter/visit_counter)"
   ]
  },
  {
   "cell_type": "markdown",
   "metadata": {
    "collapsed": true
   },
   "source": [
    "As can be seen the result is nearly the same as the state-value-function calculated above."
   ]
  },
  {
   "cell_type": "markdown",
   "metadata": {},
   "source": [
    "# Policy Optimization by Q-Learning (page 26)\n",
    "\n",
    "This code solves a very easy problem: using the rewards it calculated the optimal action-value-function.\n",
    "\n",
    "It samples a state-action pair randomly, so that all state-action pairs can be seen."
   ]
  },
  {
   "cell_type": "code",
   "execution_count": null,
   "metadata": {},
   "outputs": [],
   "source": [
    "q_table=np.zeros((3, 3)) \n",
    "for i in range(1001): \n",
    "    state=random.randint(0, 2) \n",
    "    action=random.randint(0, 2) \n",
    "    next_state=action\n",
    "    reward=rewards[next_state] \n",
    "    next_q=max(q_table[next_state]) \n",
    "    q_table[state, action]= #TODO: Implement the Q-Table update\n",
    "    if i%100==0:\n",
    "        print(q_table)"
   ]
  },
  {
   "cell_type": "markdown",
   "metadata": {},
   "source": [
    "## Score Function Gradient Estimator (page 32)"
   ]
  },
  {
   "cell_type": "code",
   "execution_count": null,
   "metadata": {},
   "outputs": [],
   "source": [
    "import torch\n",
    "\n",
    "import numpy as np\n",
    "import random\n",
    "import matplotlib.pyplot as plt\n",
    "%matplotlib inline\n",
    "class Model(torch.nn.Module):\n",
    "    def __init__(self):\n",
    "        super(Model, self).__init__()\n",
    "        self.t_policy=torch.autograd.Variable(torch.FloatTensor([[1/3 for x in range(3)] for y in range(3)]), requires_grad=True)\n",
    "    def forward(self):\n",
    "        policy = torch.nn.functional.log_softmax(self.t_policy)\n",
    "        \n",
    "        return policy\n",
    "\n",
    "def gt(rewardlist, gamma=0.1):\n",
    "    '''\n",
    "    Function um den \" total discounted return from time-step t zu berechnen\n",
    "    >>> gt([10, 2, 3], gamma=0.1)\n",
    "    10.23\n",
    "    '''\n",
    "    summe=0\n",
    "    for i, value in enumerate(rewardlist):\n",
    "        summe+=(gamma**i)*value\n",
    "    return summe\n",
    "\n",
    "valuelist=[] \n",
    "rewards=np.array([10., 2., 3.])/10\n",
    "model = Model()\n",
    "optim = torch.optim.SGD([model.t_policy], lr=0.0001)\n",
    "for i in range(10001): \n",
    "    poli=torch.nn.functional.softmax(model.t_policy).data.numpy()\n",
    "    state_action_list=[] \n",
    "    start_state=random.randint(0, 2)\n",
    "    next_state=start_state\n",
    "    rewardlist=[] \n",
    "\n",
    "    for k in range(40):\n",
    "        rewardlist.append(rewards[next_state])\n",
    "        action=np.random.choice(np.arange(0, 3), p=poli[next_state])\n",
    "        state_action_list.append((next_state, action)) \n",
    "        next_state=action \n",
    "\n",
    "\n",
    "    rew=gt(rewardlist[:], 0.99)\n",
    "    grad_list = []\n",
    "    for j, (state, action) in enumerate(state_action_list):\n",
    "    #TODO: Implement the gradient calculation and update\n",
    "    value=(gt(rewardlist, 1))\n",
    "    valuelist.append(value)\n",
    "\n",
    "\n",
    "    if i%100==0:\n",
    "        print(poli)\n",
    "        print(rewardlist)\n",
    "        plt.plot(valuelist)\n",
    "        plt.show()"
   ]
  },
  {
   "cell_type": "markdown",
   "metadata": {
    "collapsed": true
   },
   "source": [
    "# Value Iteration\n",
    "\n"
   ]
  },
  {
   "cell_type": "code",
   "execution_count": null,
   "metadata": {},
   "outputs": [],
   "source": [
    "import numpy as np\n",
    "\n",
    "rewards=np.array([10., 2., 3.])\n",
    "\n",
    "state_value_function=np.array([0 for i in range(3)])\n",
    "\n",
    "for i in range(1000):\n",
    "    s_v_f=state_value_function.copy()\n",
    "    for s in range(3):\n",
    "        state_value_function[s]=#TODO: Implement the state value function update\n",
    "print(state_value_function)"
   ]
  },
  {
   "cell_type": "markdown",
   "metadata": {},
   "source": [
    "# Policy Gradient for the CartPole task"
   ]
  },
  {
   "cell_type": "code",
   "execution_count": null,
   "metadata": {},
   "outputs": [],
   "source": [
    "import torch\n",
    "from torch.autograd import Variable\n",
    "import torch.nn as nn\n",
    "import torch.nn.functional as F\n",
    "import numpy as np\n",
    "import gym\n",
    "import random\n",
    "\n",
    "env = gym.make('CartPole-v0')\n",
    "\n",
    "env.seed(1)\n",
    "\n",
    "print(\"env.action_space\", env.action_space)\n",
    "print(\"env.observation_space\", env.observation_space)\n",
    "print(\"env.observation_space.high\", env.observation_space.high)\n",
    "print(\"env.observation_space.low\", env.observation_space.low)\n",
    "\n",
    "\n",
    "RENDER_ENV = False\n",
    "EPISODES = 5000\n",
    "rewards = []\n",
    "RENDER_REWARD_MIN = 50\n",
    "\n",
    "import numpy as np\n",
    "class PolicyGradient(nn.Module):\n",
    "    def __init__(self):\n",
    "        super(PolicyGradient, self).__init__()\n",
    "        self.linear = nn.Linear(4, 8)\n",
    "        self.linear2 = nn.Linear(8, 2)\n",
    "    def forward(self, state):\n",
    "        #TODO: Implement the forward pass\n",
    "    \n",
    "criterion = torch.nn.NLLLoss()\n",
    "policy = PolicyGradient()\n",
    "optimizer = torch.optim.RMSprop(policy.parameters(), lr=0.002)\n",
    "env.reset()\n",
    "decay=1\n",
    "import random\n",
    "import numpy as np\n",
    "import math\n",
    "import matplotlib.pyplot as plt\n",
    "resultlist=[]\n",
    "for episode in range(EPISODES):\n",
    "    observations = []\n",
    "    observation = env.reset()\n",
    "    while True:\n",
    "\n",
    "        action = int(np.random.choice(range(2), p=np.exp(policy(observation).data.numpy()[0])))\n",
    "        observation_, reward, finished, info = env.step(action)\n",
    "        observations.append((observation, action, reward, observation_))\n",
    "        observation=observation_\n",
    "\n",
    "        if finished:\n",
    "            rewardlist = [x[2] for x in observations]\n",
    "            cumulative=0\n",
    "            savelist=[]\n",
    "            for rew in rewardlist[::-1]:\n",
    "                cumulative=cumulative*decay + rew/200\n",
    "                savelist.append(cumulative)\n",
    "            savelist=savelist[::-1]\n",
    "\n",
    "            resultlist.append(savelist[0])\n",
    "            if episode%50==0:\n",
    "                plt.plot(resultlist)\n",
    "                plt.show()\n",
    "            savelist=np.array(savelist)\n",
    "\n",
    "            for (observation, action, reward, next_observation), cum_reward in zip(observations, savelist):               \n",
    "                action = torch.autograd.Variable(torch.LongTensor([action]))\n",
    "                result = policy(observation)\n",
    "                loss = criterion(result, action)\n",
    "                (loss * cum_reward).backward()\n",
    "                optimizer.step()\n",
    "                optimizer.zero_grad()\n",
    "            break"
   ]
  },
  {
   "cell_type": "markdown",
   "metadata": {},
   "source": [
    "# Actor Critic for the CartPole task"
   ]
  },
  {
   "cell_type": "code",
   "execution_count": null,
   "metadata": {},
   "outputs": [],
   "source": [
    "import numpy as np\n",
    "class PolicyGradient(nn.Module):\n",
    "    def __init__(self):\n",
    "        super(PolicyGradient, self).__init__()\n",
    "        self.linear = nn.Linear(4, 8)\n",
    "        self.linear2 = nn.Linear(8, 2)\n",
    "    def forward(self, state):\n",
    "        input1 = torch.autograd.Variable(torch.FloatTensor([state]))\n",
    "        return F.log_softmax(self.linear2(F.sigmoid(self.linear(input1))))\n",
    "    \n",
    "class Critic(nn.Module):\n",
    "    def __init__(self):\n",
    "        super(Critic, self).__init__()\n",
    "        self.linear = nn.Linear(4, 8)\n",
    "        self.linear2 = nn.Linear(2, 4)\n",
    "        self.linear3 = nn.Linear(12, 1)\n",
    "        \n",
    "    def forward(self, state, action):\n",
    "        #TODO: Implement the forward pass\n",
    "        \n",
    "criterion = torch.nn.NLLLoss()\n",
    "critic_loss = torch.nn.MSELoss()\n",
    "policy = PolicyGradient()\n",
    "critic = Critic()\n",
    "optimizer = torch.optim.RMSprop(policy.parameters(), lr=0.002)\n",
    "optimizer_critic = torch.optim.RMSprop(critic.parameters(), lr=0.002)\n",
    "env.reset()\n",
    "decay=1\n",
    "import random\n",
    "import numpy as np\n",
    "import math\n",
    "import matplotlib.pyplot as plt\n",
    "resultlist=[]\n",
    "for episode in range(EPISODES):\n",
    "    observations = []\n",
    "    observation = env.reset()\n",
    "    while True:\n",
    "        action = int(np.random.choice(range(2), p=np.exp(policy(observation).data.numpy()[0])))\n",
    "        observation_, reward, finished, info = env.step(action)\n",
    "        observations.append((observation, action, reward, observation_))\n",
    "        observation=observation_\n",
    "        if finished:\n",
    "            rewardlist = [x[2] for x in observations]\n",
    "            cumulative=0\n",
    "            savelist=[]\n",
    "            for rew in rewardlist[::-1]:\n",
    "                cumulative=cumulative*decay + rew/200\n",
    "                savelist.append(cumulative)\n",
    "            savelist=savelist[::-1]\n",
    "            resultlist.append(savelist[0])\n",
    "            if episode%50==0:\n",
    "                plt.plot(resultlist)\n",
    "                plt.show()\n",
    "            savelist=np.array(savelist)\n",
    "\n",
    "            for (observation, action, reward, next_observation), cum_reward in zip(observations, savelist):\n",
    "                crit_score = critic(observation, action)\n",
    "                loss = critic_loss(crit_score, torch.autograd.Variable(torch.FloatTensor([cum_reward])).view(1, 1))\n",
    "                loss.backward()\n",
    "                optimizer.zero_grad()\n",
    "                optimizer_critic.step()\n",
    "                optimizer_critic.zero_grad()\n",
    "                crit_score = float(critic(observation, action).data.numpy()[0][0])\n",
    "                action = torch.autograd.Variable(torch.LongTensor([action]))\n",
    "                result = policy(observation)\n",
    "                loss = criterion(result, action)\n",
    "                (loss * crit_score).backward()\n",
    "                optimizer.step()\n",
    "                optimizer.zero_grad()\n",
    "            break"
   ]
  },
  {
   "cell_type": "code",
   "execution_count": null,
   "metadata": {
    "collapsed": true
   },
   "outputs": [],
   "source": []
  }
 ],
 "metadata": {
  "kernelspec": {
   "display_name": "Python 3",
   "language": "python",
   "name": "python3"
  },
  "language_info": {
   "codemirror_mode": {
    "name": "ipython",
    "version": 3
   },
   "file_extension": ".py",
   "mimetype": "text/x-python",
   "name": "python",
   "nbconvert_exporter": "python",
   "pygments_lexer": "ipython3",
   "version": "3.5.5"
  }
 },
 "nbformat": 4,
 "nbformat_minor": 2
}
