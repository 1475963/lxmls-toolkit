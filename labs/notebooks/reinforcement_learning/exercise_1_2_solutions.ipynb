{
 "cells": [
  {
   "cell_type": "markdown",
   "metadata": {},
   "source": [
    "# State Value Function\n",
    "\n",
    "We want to calculate $V_{\\pi}(s)$ (the state-value-function given a policy)\n",
    "![mdp.png](mdp.png)"
   ]
  },
  {
   "cell_type": "markdown",
   "metadata": {},
   "source": [
    "# Policy Evaluation by Dynamic Programming (page 16)"
   ]
  },
  {
   "cell_type": "code",
   "execution_count": null,
   "metadata": {},
   "outputs": [],
   "source": [
    "import numpy as np\n",
    "\n",
    "policy=np.array([[0.3, 0.2, 0.5], [0.5, 0.4, 0.1], [0.8, 0.1, 0.1]])\n",
    "print('This is the optimal policy: {}')\n",
    "rewards=np.array([10., 2., 3.])\n",
    "\n",
    "state_value_function=np.array([0 for i in range(3)])\n",
    "\n",
    "for i in range(20):\n",
    "    print('V_{}={}'.format(i, state_value_function))\n",
    "    state_value_function=rewards+0.1*(np.matmul(policy, state_value_function))\n",
    "print('\\nV={}'.format(state_value_function))"
   ]
  },
  {
   "cell_type": "markdown",
   "metadata": {
    "collapsed": true
   },
   "source": [
    "# Policy Evaluation by Linear Programming (page 15)\n",
    "\n",
    "The state-value-function can be directly solved through linear programming (as shown on page 15):\n"
   ]
  },
  {
   "cell_type": "code",
   "execution_count": null,
   "metadata": {},
   "outputs": [],
   "source": [
    "solution=np.matmul(np.linalg.inv(np.eye(3)-0.1*policy), rewards)\n",
    "print(solution)"
   ]
  },
  {
   "cell_type": "markdown",
   "metadata": {},
   "source": [
    "The result stays the same."
   ]
  },
  {
   "cell_type": "markdown",
   "metadata": {},
   "source": [
    "# Monte Carlo Policy Evaluation (page 20)\n",
    "\n",
    "\n",
    "Monte Carlo Policy Evaluation can also be used, whereby sampling is used to get to the same result"
   ]
  },
  {
   "cell_type": "code",
   "execution_count": null,
   "metadata": {},
   "outputs": [],
   "source": [
    "import random\n",
    "from collections import defaultdict\n",
    "reward_counter=np.array([0., 0., 0.])\n",
    "visit_counter=np.array([0., 0., 0.])\n",
    "\n",
    "def gt(rewardlist, gamma=0.1):\n",
    "    '''\n",
    "    Function to calculate the total discounted reward\n",
    "    >>> gt([10, 2, 3], gamma=0.1)\n",
    "    10.23\n",
    "    '''\n",
    "    summe=0\n",
    "    for i, value in enumerate(rewardlist):\n",
    "        summe+=(gamma**i)*value\n",
    "    return summe\n",
    "\n",
    "\n",
    "for i in range(400):\n",
    "    start_state=random.randint(0, 2)\n",
    "    next_state=start_state\n",
    "    rewardlist=[]\n",
    "    occurence=defaultdict(list) \n",
    "    for i in range(250):\n",
    "        rewardlist.append(rewards[next_state]) \n",
    "        occurence[next_state].append(len(rewardlist)-1) \n",
    "        action=np.random.choice(np.arange(0, 3), p=policy[next_state]) \n",
    "        next_state=action\n",
    "\n",
    "    for state in occurence: \n",
    "        for value in occurence[state]: \n",
    "            rew=gt(rewardlist[value:]) \n",
    "            reward_counter[state]+=rew \n",
    "            visit_counter[state]+=1 \n",
    "            \n",
    "\n",
    "print(reward_counter/visit_counter)"
   ]
  },
  {
   "cell_type": "markdown",
   "metadata": {
    "collapsed": true
   },
   "source": [
    "As can be seen the result is nearly the same as the state-value-function calculated above."
   ]
  },
  {
   "cell_type": "markdown",
   "metadata": {},
   "source": [
    "# Policy Optimization by Q-Learning (page 26)\n",
    "\n",
    "This code solves a very easy problem: using the rewards it calculated the optimal action-value-function.\n",
    "\n",
    "It samples a state-action pair randomly, so that all state-action pairs can be seen."
   ]
  },
  {
   "cell_type": "code",
   "execution_count": null,
   "metadata": {},
   "outputs": [],
   "source": [
    "q_table=np.zeros((3, 3)) \n",
    "for i in range(1001): \n",
    "    state=random.randint(0, 2) \n",
    "    action=random.randint(0, 2) \n",
    "    next_state=action\n",
    "    reward=rewards[next_state] \n",
    "    next_q=max(q_table[next_state]) \n",
    "    q_table[state, action]=q_table[state, action]+1*(reward+0.1*(next_q)-q_table[state, action]) #Q-Table update\n",
    "    if i%100==0:\n",
    "        print(q_table)"
   ]
  },
  {
   "cell_type": "markdown",
   "metadata": {},
   "source": [
    "## Score Function Gradient Estimator (page 32)"
   ]
  },
  {
   "cell_type": "code",
   "execution_count": null,
   "metadata": {},
   "outputs": [],
   "source": [
    "import torch\n",
    "\n",
    "import numpy as np\n",
    "import random\n",
    "import matplotlib.pyplot as plt\n",
    "%matplotlib inline\n",
    "class Model(torch.nn.Module):\n",
    "    def __init__(self):\n",
    "        super(Model, self).__init__()\n",
    "        self.t_policy=torch.autograd.Variable(torch.FloatTensor([[1/3 for x in range(3)] for y in range(3)]), requires_grad=True)\n",
    "    def forward(self):\n",
    "        policy = torch.nn.functional.log_softmax(self.t_policy)\n",
    "        \n",
    "        return policy\n",
    "\n",
    "def gt(rewardlist, gamma=0.1):\n",
    "    '''\n",
    "    Function um den \" total discounted return from time-step t zu berechnen\n",
    "    >>> gt([10, 2, 3], gamma=0.1)\n",
    "    10.23\n",
    "    '''\n",
    "    summe=0\n",
    "    for i, value in enumerate(rewardlist):\n",
    "        summe+=(gamma**i)*value\n",
    "    return summe\n",
    "\n",
    "valuelist=[] \n",
    "rewards=np.array([10., 2., 3.])/10\n",
    "model = Model()\n",
    "optim = torch.optim.SGD([model.t_policy], lr=0.0001)\n",
    "for i in range(10001): \n",
    "    poli=torch.nn.functional.softmax(model.t_policy).data.numpy()\n",
    "    state_action_list=[] \n",
    "    start_state=random.randint(0, 2)\n",
    "    next_state=start_state\n",
    "    rewardlist=[] \n",
    "\n",
    "    for k in range(40):\n",
    "        rewardlist.append(rewards[next_state])\n",
    "        action=np.random.choice(np.arange(0, 3), p=poli[next_state])\n",
    "        state_action_list.append((next_state, action)) \n",
    "        next_state=action \n",
    "\n",
    "\n",
    "    rew=gt(rewardlist[:], 0.99)\n",
    "    grad_list = []\n",
    "    for j, (state, action) in enumerate(state_action_list):\n",
    "        value = model()\n",
    "        value = -value[state, action] * rew\n",
    "        grad_list.append(value.view(1, -1))\n",
    "\n",
    "    grads = torch.cat(grad_list, 0).mean()\n",
    "    grads.backward()\n",
    "    optim.step()\n",
    "    value=(gt(rewardlist, 1))\n",
    "    valuelist.append(value)\n",
    "\n",
    "\n",
    "    if i%100==0:\n",
    "        print(poli)\n",
    "        print(rewardlist)\n",
    "        plt.plot(valuelist)\n",
    "        plt.show()"
   ]
  },
  {
   "cell_type": "markdown",
   "metadata": {
    "collapsed": true
   },
   "source": [
    "# Value Iteration\n",
    "\n"
   ]
  },
  {
   "cell_type": "code",
   "execution_count": null,
   "metadata": {},
   "outputs": [],
   "source": [
    "import numpy as np\n",
    "\n",
    "rewards=np.array([10., 2., 3.])\n",
    "\n",
    "state_value_function=np.array([0 for i in range(3)])\n",
    "print('V_{} = {}'.format(0,state_value_function))\n",
    "for i in range(1000):\n",
    "    s_v_f=state_value_function.copy()\n",
    "    for s in range(3):\n",
    "        state_value_function[s]=max(rewards[s]+0.1*state_value_function[s_prime] for s_prime  in range(3))\n",
    "    if i%100==99:\n",
    "        print('V_{} = {}'.format(i+1,state_value_function))"
   ]
  }
 ],
 "metadata": {
  "kernelspec": {
   "display_name": "Python 2",
   "language": "python",
   "name": "python2"
  },
  "language_info": {
   "codemirror_mode": {
    "name": "ipython",
    "version": 2
   },
   "file_extension": ".py",
   "mimetype": "text/x-python",
   "name": "python",
   "nbconvert_exporter": "python",
   "pygments_lexer": "ipython2",
   "version": "2.7.10"
  }
 },
 "nbformat": 4,
 "nbformat_minor": 2
}
