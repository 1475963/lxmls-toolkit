{
 "cells": [
  {
   "cell_type": "markdown",
   "metadata": {},
   "source": [
    "# Installation\n",
    "Make sure to have all the required software installed after proceeding. \n",
    "For installation help, please consult the [school guide](http://lxmls.it.pt/2018/LxMLS_guide_2018.pdf).\n"
   ]
  },
  {
   "cell_type": "markdown",
   "metadata": {},
   "source": [
    "# Python Basics"
   ]
  },
  {
   "cell_type": "code",
   "execution_count": null,
   "metadata": {
    "collapsed": true
   },
   "outputs": [],
   "source": [
    "print('Hello World!')"
   ]
  },
  {
   "cell_type": "markdown",
   "metadata": {},
   "source": [
    "### Basic Math Operations"
   ]
  },
  {
   "cell_type": "code",
   "execution_count": null,
   "metadata": {
    "collapsed": true
   },
   "outputs": [],
   "source": [
    "print(3 + 5)\n",
    "print(3 - 5)\n",
    "print(3 * 5)\n",
    "print(3 ** 5)"
   ]
  },
  {
   "cell_type": "code",
   "execution_count": null,
   "metadata": {
    "collapsed": true
   },
   "outputs": [],
   "source": [
    "# Observation: this code gives different results for python2 and python3\n",
    "# because of the behaviour for the division operator\n",
    "print(3 / 5.0)\n",
    "print(3 / 5)\n",
    "\n",
    "# for compatibility, make sure to use the follow statement\n",
    "from __future__ import division\n",
    "print(3 / 5.0)\n",
    "print(3 / 5)"
   ]
  },
  {
   "cell_type": "markdown",
   "metadata": {},
   "source": [
    "### Data Strutures"
   ]
  },
  {
   "cell_type": "code",
   "execution_count": null,
   "metadata": {
    "collapsed": true
   },
   "outputs": [],
   "source": [
    "countries = ['Portugal','Spain','United Kingdom']\n",
    "print(countries)"
   ]
  },
  {
   "cell_type": "markdown",
   "metadata": {},
   "source": [
    "## Exercise 0.1\n",
    "Use L[i:j] to return the countries in the Iberian Peninsula."
   ]
  },
  {
   "cell_type": "code",
   "execution_count": null,
   "metadata": {
    "collapsed": true
   },
   "outputs": [],
   "source": [
    "countries[0:2]"
   ]
  },
  {
   "cell_type": "markdown",
   "metadata": {},
   "source": [
    "### Loops and Indentation"
   ]
  },
  {
   "cell_type": "code",
   "execution_count": null,
   "metadata": {
    "collapsed": true
   },
   "outputs": [],
   "source": [
    "i = 2\n",
    "while i < 10:\n",
    "    print(i)\n",
    "    i += 2"
   ]
  },
  {
   "cell_type": "code",
   "execution_count": null,
   "metadata": {
    "collapsed": true
   },
   "outputs": [],
   "source": [
    "for i in range(2,10,2):\n",
    "    print(i)"
   ]
  },
  {
   "cell_type": "code",
   "execution_count": null,
   "metadata": {
    "collapsed": true
   },
   "outputs": [],
   "source": [
    "a=1\n",
    "while a <= 3:\n",
    "    print(a)\n",
    "    a += 1"
   ]
  },
  {
   "cell_type": "markdown",
   "metadata": {},
   "source": [
    "## Exercise 0.2\n",
    "Can you then predict the output of the following code?:"
   ]
  },
  {
   "cell_type": "code",
   "execution_count": null,
   "metadata": {
    "collapsed": true
   },
   "outputs": [],
   "source": [
    "a=1\n",
    "while a <= 3:\n",
    "    print(a)\n",
    "a += 1"
   ]
  },
  {
   "cell_type": "markdown",
   "metadata": {},
   "source": [
    "### Control Flow"
   ]
  },
  {
   "cell_type": "code",
   "execution_count": null,
   "metadata": {
    "collapsed": true
   },
   "outputs": [],
   "source": [
    "hour = 16\n",
    "if hour < 12:\n",
    "    print('Good morning!')\n",
    "elif hour >= 12 and hour < 20:\n",
    "    print('Good afternoon!')\n",
    "else:\n",
    "    print('Good evening!')"
   ]
  },
  {
   "cell_type": "markdown",
   "metadata": {},
   "source": [
    "### Functions"
   ]
  },
  {
   "cell_type": "code",
   "execution_count": null,
   "metadata": {
    "collapsed": true
   },
   "outputs": [],
   "source": [
    "def greet(hour):\n",
    "    if hour < 12:\n",
    "        print('Good morning!')\n",
    "    elif hour >= 12 and hour < 20:\n",
    "        print('Good afternoon!')\n",
    "    else:\n",
    "        print('Good evening!')"
   ]
  },
  {
   "cell_type": "markdown",
   "metadata": {},
   "source": [
    "## Exercise 0.3 \n",
    "Note that the previous code allows the hour to be less than 0 or more than 24. Change the code in order to\n",
    "indicate that the hour given as input is invalid. Your output should be something like:\n",
    "\n",
    "``greet(50)\n",
    "Invalid hour: it should be between 0 and 24.\n",
    "greet(-5)\n",
    "Invalid hour: it should be between 0 and 24.``"
   ]
  },
  {
   "cell_type": "code",
   "execution_count": null,
   "metadata": {
    "collapsed": true
   },
   "outputs": [],
   "source": [
    "greet(50)"
   ]
  },
  {
   "cell_type": "code",
   "execution_count": null,
   "metadata": {
    "collapsed": true
   },
   "outputs": [],
   "source": [
    "greet(-5)"
   ]
  },
  {
   "cell_type": "markdown",
   "metadata": {},
   "source": [
    "### Profiling"
   ]
  },
  {
   "cell_type": "code",
   "execution_count": null,
   "metadata": {
    "collapsed": true
   },
   "outputs": [],
   "source": [
    "%prun greet(22)"
   ]
  },
  {
   "cell_type": "markdown",
   "metadata": {},
   "source": [
    "### Debugging in Python"
   ]
  },
  {
   "cell_type": "code",
   "execution_count": null,
   "metadata": {
    "collapsed": true
   },
   "outputs": [],
   "source": [
    "def greet2(hour):\n",
    "    if hour < 12:\n",
    "        print('Good morning!')\n",
    "    elif hour >= 12 and hour < 20:\n",
    "        print('Good afternoon!')\n",
    "    else:\n",
    "        import pdb; pdb.set_trace()\n",
    "        print('Good evening!')"
   ]
  },
  {
   "cell_type": "code",
   "execution_count": null,
   "metadata": {
    "collapsed": true
   },
   "outputs": [],
   "source": [
    "# try: greet2(22)"
   ]
  },
  {
   "cell_type": "markdown",
   "metadata": {},
   "source": [
    "## Exceptions\n",
    "for a complete list of built-in exceptions, see [http://docs.python.org/2/library/exceptions.html](http://docs.python.org/2/library/exceptions.html)"
   ]
  },
  {
   "cell_type": "code",
   "execution_count": null,
   "metadata": {
    "collapsed": true
   },
   "outputs": [],
   "source": [
    "raise ValueError(\"Invalid input value.\")"
   ]
  },
  {
   "cell_type": "code",
   "execution_count": null,
   "metadata": {
    "collapsed": true
   },
   "outputs": [],
   "source": [
    "while True:\n",
    "    try:\n",
    "        x = int(input(\"Please enter a number: \"))\n",
    "        break\n",
    "    except ValueError:\n",
    "        print(\"Oops! That was no valid number. Try again...\")"
   ]
  },
  {
   "cell_type": "markdown",
   "metadata": {},
   "source": [
    "### Extending basic Functionalities with Modules"
   ]
  },
  {
   "cell_type": "code",
   "execution_count": null,
   "metadata": {
    "collapsed": true
   },
   "outputs": [],
   "source": [
    "import numpy as np\n",
    "np.var?"
   ]
  },
  {
   "cell_type": "code",
   "execution_count": null,
   "metadata": {
    "collapsed": true
   },
   "outputs": [],
   "source": [
    "np.random.normal?"
   ]
  },
  {
   "cell_type": "markdown",
   "metadata": {},
   "source": [
    "### Organizing your Code with your own modules\n",
    "See details in [guide](http://lxmls.it.pt/2018/LxMLS_guide_2018.pdf)"
   ]
  },
  {
   "cell_type": "markdown",
   "metadata": {},
   "source": [
    "## Matplotlib – Plotting in Python"
   ]
  },
  {
   "cell_type": "code",
   "execution_count": 2,
   "metadata": {},
   "outputs": [
    {
     "data": {
      "image/png": "[encoded data removed]",
      "text/plain": [
       "<Figure size 432x288 with 1 Axes>"
      ]
     },
     "metadata": {
      "needs_background": "light"
     },
     "output_type": "display_data"
    }
   ],
   "source": [
    "import numpy as np\n",
    "import matplotlib.pyplot as plt\n",
    "%matplotlib inline \n",
    "X = np.linspace(-4, 4, 1000)\n",
    "plt.plot(X, X**2*np.cos(X**2))\n",
    "plt.savefig(\"simple.pdf\")"
   ]
  },
  {
   "cell_type": "markdown",
   "metadata": {},
   "source": [
    "## Exercise 0.5 \n",
    "Try running the following on Jupyter, which will introduce you to some of the basic numeric and plotting\n",
    "operations."
   ]
  },
  {
   "cell_type": "code",
   "execution_count": 3,
   "metadata": {},
   "outputs": [
    {
     "data": {
      "image/png": "[encoded data removed]",
      "text/plain": [
       "<Figure size 432x288 with 1 Axes>"
      ]
     },
     "metadata": {
      "needs_background": "light"
     },
     "output_type": "display_data"
    }
   ],
   "source": [
    "# This will import the numpy library\n",
    "# and give it the np abbreviation\n",
    "import numpy as np\n",
    "# This will import the plotting library\n",
    "import matplotlib.pyplot as plt\n",
    "# Linspace will return 1000 points,\n",
    "# evenly spaced between -4 and +4\n",
    "X = np.linspace(-4, 4, 1000)\n",
    "# Y[i] = X[i]**2\n",
    "Y = X**2\n",
    "# Plot using a red line ('r')\n",
    "plt.plot(X, Y, 'r')\n",
    "# arange returns integers ranging from -4 to +4\n",
    "# (the upper argument is excluded!)\n",
    "Ints = np.arange(-4,5)\n",
    "# We plot these on top of the previous plot\n",
    "# using blue circles (o means a little circle)\n",
    "plt.plot(Ints, Ints**2, 'bo')\n",
    "# You may notice that the plot is tight around the line\n",
    "# Set the display limits to see better\n",
    "plt.xlim(-4.5,4.5)\n",
    "plt.ylim(-1,17)\n",
    "plt.show()"
   ]
  },
  {
   "cell_type": "code",
   "execution_count": null,
   "metadata": {
    "collapsed": true
   },
   "outputs": [],
   "source": [
    "import matplotlib.pyplot as plt\n",
    "import numpy as np\n",
    "X = np.linspace(0, 4 * np.pi, 1000)\n",
    "C = np.cos(X)\n",
    "S = np.sin(X)\n",
    "plt.plot(X, C)\n",
    "plt.plot(X, S)\n",
    "plt.show()"
   ]
  },
  {
   "cell_type": "markdown",
   "metadata": {},
   "source": [
    "# Exercise 0.6 \n",
    "Run the following example and lookup the ptp function/method (use the ? functionality in Jupyter)"
   ]
  },
  {
   "cell_type": "code",
   "execution_count": null,
   "metadata": {
    "collapsed": true
   },
   "outputs": [],
   "source": [
    "A = np.arange(100)\n",
    "# These two lines do exactly the same thing\n",
    "print(np.mean(A))\n",
    "print(A.mean())"
   ]
  },
  {
   "cell_type": "code",
   "execution_count": null,
   "metadata": {
    "collapsed": true
   },
   "outputs": [],
   "source": [
    "np.ptp?"
   ]
  },
  {
   "cell_type": "markdown",
   "metadata": {},
   "source": [
    "# Exercise 0.7 "
   ]
  },
  {
   "cell_type": "markdown",
   "metadata": {},
   "source": [
    "Consider the following approximation to compute an integral\n",
    "\n",
    "\n",
    "\\begin{equation*}\n",
    "       \\int_0^1 f(x) dx \\approx \\sum_{i=0}^{999} \\frac{f(i/1000)}{1000}\n",
    "\\end{equation*}\n",
    "\n",
    "Use numpy to implement this for $f(x) = x^2$. You should not need to use any loops. Note that integer division in Python 2.x returns the floor division (use floats – e.g. 5.0/2.0 – to obtain rationals). The exact value is 1/3. How close\n",
    "is the approximation?"
   ]
  },
  {
   "cell_type": "code",
   "execution_count": null,
   "metadata": {
    "collapsed": true
   },
   "outputs": [],
   "source": [
    "def f(x):\n",
    "    return(x**2)\n",
    "\n",
    "sum([f(x*1./1000)/1000 for x in range(0,1000)])"
   ]
  },
  {
   "cell_type": "markdown",
   "metadata": {},
   "source": [
    "# Exercise 0.8 \n",
    "In the rest of the school we will represent both matrices and vectors as numpy arrays. You can create arrays\n",
    "in different ways, one possible way is to create an array of zeros."
   ]
  },
  {
   "cell_type": "code",
   "execution_count": null,
   "metadata": {
    "collapsed": true
   },
   "outputs": [],
   "source": [
    "import numpy as np\n",
    "m = 3\n",
    "n = 2\n",
    "a = np.zeros([m,n])\n",
    "print(a)"
   ]
  },
  {
   "cell_type": "markdown",
   "metadata": {},
   "source": [
    "You can check the shape and the data type of your array using the following commands:"
   ]
  },
  {
   "cell_type": "code",
   "execution_count": null,
   "metadata": {
    "collapsed": true
   },
   "outputs": [],
   "source": [
    "print(a.shape)\n",
    "print(a.dtype.name)"
   ]
  },
  {
   "cell_type": "markdown",
   "metadata": {},
   "source": [
    "This shows you that “a” is an 3*2 array of type float64. By default, arrays contain 64 bit6 floating point numbers. You\n",
    "can specify the particular array type by using the keyword dtype."
   ]
  },
  {
   "cell_type": "code",
   "execution_count": null,
   "metadata": {
    "collapsed": true
   },
   "outputs": [],
   "source": [
    "a = np.zeros([m,n],dtype=int)\n",
    "print(a.dtype)"
   ]
  },
  {
   "cell_type": "markdown",
   "metadata": {},
   "source": [
    "You can also create arrays from lists of numbers:"
   ]
  },
  {
   "cell_type": "code",
   "execution_count": null,
   "metadata": {
    "collapsed": true
   },
   "outputs": [],
   "source": [
    "a = np.array([[2,3],[3,4]])\n",
    "print(a)"
   ]
  },
  {
   "cell_type": "markdown",
   "metadata": {},
   "source": [
    "# Exercise 0.9 \n",
    "You can multiply two matrices by looping over both indexes and multiplying the individual entries."
   ]
  },
  {
   "cell_type": "code",
   "execution_count": null,
   "metadata": {
    "collapsed": true
   },
   "outputs": [],
   "source": [
    "a = np.array([[2,3],[3,4]])\n",
    "b = np.array([[1,1],[1,1]])\n",
    "a_dim1, a_dim2 = a.shape\n",
    "b_dim1, b_dim2 = b.shape\n",
    "c = np.zeros([a_dim1,b_dim2])\n",
    "for i in range(a_dim1):\n",
    "    for j in range(b_dim2):\n",
    "        for k in range(a_dim2):\n",
    "            c[i,j] += a[i,k]*b[k,j]\n",
    "print(c)"
   ]
  },
  {
   "cell_type": "markdown",
   "metadata": {},
   "source": [
    "This is, however, cumbersome and inefficient. Numpy supports matrix multiplication with the dot function:"
   ]
  },
  {
   "cell_type": "code",
   "execution_count": null,
   "metadata": {
    "collapsed": true
   },
   "outputs": [],
   "source": [
    "d = np.dot(a,b)\n",
    "print(d)"
   ]
  },
  {
   "cell_type": "code",
   "execution_count": null,
   "metadata": {
    "collapsed": true
   },
   "outputs": [],
   "source": [
    "a = np.array([1,2])\n",
    "b = np.array([1,1])\n",
    "np.dot(a,b)"
   ]
  },
  {
   "cell_type": "code",
   "execution_count": null,
   "metadata": {
    "collapsed": true
   },
   "outputs": [],
   "source": [
    "np.outer(a,b)"
   ]
  },
  {
   "cell_type": "code",
   "execution_count": null,
   "metadata": {
    "collapsed": true
   },
   "outputs": [],
   "source": [
    "I = np.eye(2)\n",
    "x = np.array([2.3, 3.4])\n",
    "print(I)\n",
    "print(np.dot(I,x))"
   ]
  },
  {
   "cell_type": "code",
   "execution_count": null,
   "metadata": {
    "collapsed": true
   },
   "outputs": [],
   "source": [
    "A = np.array([ [1, 2], [3, 4] ])\n",
    "print(A)\n",
    "print(A.T)"
   ]
  },
  {
   "cell_type": "code",
   "execution_count": null,
   "metadata": {
    "collapsed": true
   },
   "outputs": [],
   "source": []
  }
 ],
 "metadata": {
  "anaconda-cloud": {},
  "kernelspec": {
   "display_name": "Python 3",
   "language": "python",
   "name": "python3"
  },
  "language_info": {
   "codemirror_mode": {
    "name": "ipython",
    "version": 3
   },
   "file_extension": ".py",
   "mimetype": "text/x-python",
   "name": "python",
   "nbconvert_exporter": "python",
   "pygments_lexer": "ipython3",
   "version": "3.6.6"
  }
 },
 "nbformat": 4,
 "nbformat_minor": 2
}
